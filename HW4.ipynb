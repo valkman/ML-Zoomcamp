{
 "cells": [
  {
   "cell_type": "markdown",
   "metadata": {},
   "source": [
    "# Homework 4"
   ]
  },
  {
   "cell_type": "code",
   "execution_count": 43,
   "metadata": {},
   "outputs": [],
   "source": [
    "import pandas as pd\n",
    "import numpy as np\n",
    "import wget\n",
    "import matplotlib.pyplot as plt"
   ]
  },
  {
   "cell_type": "code",
   "execution_count": 44,
   "metadata": {},
   "outputs": [],
   "source": [
    "from sklearn.model_selection import train_test_split\n",
    "from sklearn.feature_extraction import DictVectorizer\n",
    "from sklearn.linear_model import LogisticRegression"
   ]
  },
  {
   "cell_type": "code",
   "execution_count": 2,
   "metadata": {},
   "outputs": [
    {
     "name": "stdout",
     "output_type": "stream",
     "text": [
      "\r",
      "  0% [                                                                          ]       0 / 1475504\r",
      "  0% [                                                                          ]    8192 / 1475504\r",
      "  1% [                                                                          ]   16384 / 1475504\r",
      "  1% [.                                                                         ]   24576 / 1475504\r",
      "  2% [.                                                                         ]   32768 / 1475504\r",
      "  2% [..                                                                        ]   40960 / 1475504\r",
      "  3% [..                                                                        ]   49152 / 1475504\r",
      "  3% [..                                                                        ]   57344 / 1475504\r",
      "  4% [...                                                                       ]   65536 / 1475504\r",
      "  4% [...                                                                       ]   73728 / 1475504\r",
      "  5% [....                                                                      ]   81920 / 1475504\r",
      "  6% [....                                                                      ]   90112 / 1475504\r",
      "  6% [....                                                                      ]   98304 / 1475504\r",
      "  7% [.....                                                                     ]  106496 / 1475504\r",
      "  7% [.....                                                                     ]  114688 / 1475504\r",
      "  8% [......                                                                    ]  122880 / 1475504\r",
      "  8% [......                                                                    ]  131072 / 1475504\r",
      "  9% [......                                                                    ]  139264 / 1475504\r",
      "  9% [.......                                                                   ]  147456 / 1475504\r",
      " 10% [.......                                                                   ]  155648 / 1475504\r",
      " 11% [........                                                                  ]  163840 / 1475504\r",
      " 11% [........                                                                  ]  172032 / 1475504\r",
      " 12% [.........                                                                 ]  180224 / 1475504\r",
      " 12% [.........                                                                 ]  188416 / 1475504\r",
      " 13% [.........                                                                 ]  196608 / 1475504\r",
      " 13% [..........                                                                ]  204800 / 1475504\r",
      " 14% [..........                                                                ]  212992 / 1475504\r",
      " 14% [...........                                                               ]  221184 / 1475504\r",
      " 15% [...........                                                               ]  229376 / 1475504\r",
      " 16% [...........                                                               ]  237568 / 1475504\r",
      " 16% [............                                                              ]  245760 / 1475504\r",
      " 17% [............                                                              ]  253952 / 1475504\r",
      " 17% [.............                                                             ]  262144 / 1475504\r",
      " 18% [.............                                                             ]  270336 / 1475504\r",
      " 18% [.............                                                             ]  278528 / 1475504\r",
      " 19% [..............                                                            ]  286720 / 1475504\r",
      " 19% [..............                                                            ]  294912 / 1475504\r",
      " 20% [...............                                                           ]  303104 / 1475504\r",
      " 21% [...............                                                           ]  311296 / 1475504\r",
      " 21% [................                                                          ]  319488 / 1475504\r",
      " 22% [................                                                          ]  327680 / 1475504\r",
      " 22% [................                                                          ]  335872 / 1475504\r",
      " 23% [.................                                                         ]  344064 / 1475504\r",
      " 23% [.................                                                         ]  352256 / 1475504\r",
      " 24% [..................                                                        ]  360448 / 1475504\r",
      " 24% [..................                                                        ]  368640 / 1475504\r",
      " 25% [..................                                                        ]  376832 / 1475504\r",
      " 26% [...................                                                       ]  385024 / 1475504\r",
      " 26% [...................                                                       ]  393216 / 1475504\r",
      " 27% [....................                                                      ]  401408 / 1475504\r",
      " 27% [....................                                                      ]  409600 / 1475504\r",
      " 28% [....................                                                      ]  417792 / 1475504\r",
      " 28% [.....................                                                     ]  425984 / 1475504\r",
      " 29% [.....................                                                     ]  434176 / 1475504\r",
      " 29% [......................                                                    ]  442368 / 1475504\r",
      " 30% [......................                                                    ]  450560 / 1475504\r",
      " 31% [.......................                                                   ]  458752 / 1475504\r",
      " 31% [.......................                                                   ]  466944 / 1475504\r",
      " 32% [.......................                                                   ]  475136 / 1475504\r",
      " 32% [........................                                                  ]  483328 / 1475504\r",
      " 33% [........................                                                  ]  491520 / 1475504\r",
      " 33% [.........................                                                 ]  499712 / 1475504\r",
      " 34% [.........................                                                 ]  507904 / 1475504\r",
      " 34% [.........................                                                 ]  516096 / 1475504\r",
      " 35% [..........................                                                ]  524288 / 1475504\r",
      " 36% [..........................                                                ]  532480 / 1475504\r",
      " 36% [...........................                                               ]  540672 / 1475504\r",
      " 37% [...........................                                               ]  548864 / 1475504\r",
      " 37% [...........................                                               ]  557056 / 1475504\r",
      " 38% [............................                                              ]  565248 / 1475504\r",
      " 38% [............................                                              ]  573440 / 1475504\r",
      " 39% [.............................                                             ]  581632 / 1475504\r",
      " 39% [.............................                                             ]  589824 / 1475504\r",
      " 40% [.............................                                             ]  598016 / 1475504\r",
      " 41% [..............................                                            ]  606208 / 1475504\r",
      " 41% [..............................                                            ]  614400 / 1475504\r",
      " 42% [...............................                                           ]  622592 / 1475504\r",
      " 42% [...............................                                           ]  630784 / 1475504\r",
      " 43% [................................                                          ]  638976 / 1475504\r",
      " 43% [................................                                          ]  647168 / 1475504\r",
      " 44% [................................                                          ]  655360 / 1475504\r",
      " 44% [.................................                                         ]  663552 / 1475504\r",
      " 45% [.................................                                         ]  671744 / 1475504\r",
      " 46% [..................................                                        ]  679936 / 1475504\r",
      " 46% [..................................                                        ]  688128 / 1475504\r",
      " 47% [..................................                                        ]  696320 / 1475504\r",
      " 47% [...................................                                       ]  704512 / 1475504\r",
      " 48% [...................................                                       ]  712704 / 1475504\r",
      " 48% [....................................                                      ]  720896 / 1475504\r",
      " 49% [....................................                                      ]  729088 / 1475504\r",
      " 49% [....................................                                      ]  737280 / 1475504\r",
      " 50% [.....................................                                     ]  745472 / 1475504\r",
      " 51% [.....................................                                     ]  753664 / 1475504\r",
      " 51% [......................................                                    ]  761856 / 1475504\r",
      " 52% [......................................                                    ]  770048 / 1475504\r",
      " 52% [.......................................                                   ]  778240 / 1475504\r",
      " 53% [.......................................                                   ]  786432 / 1475504\r",
      " 53% [.......................................                                   ]  794624 / 1475504\r",
      " 54% [........................................                                  ]  802816 / 1475504\r",
      " 54% [........................................                                  ]  811008 / 1475504\r",
      " 55% [.........................................                                 ]  819200 / 1475504\r",
      " 56% [.........................................                                 ]  827392 / 1475504\r",
      " 56% [.........................................                                 ]  835584 / 1475504\r",
      " 57% [..........................................                                ]  843776 / 1475504\r",
      " 57% [..........................................                                ]  851968 / 1475504\r",
      " 58% [...........................................                               ]  860160 / 1475504\r",
      " 58% [...........................................                               ]  868352 / 1475504\r",
      " 59% [...........................................                               ]  876544 / 1475504\r",
      " 59% [............................................                              ]  884736 / 1475504\r",
      " 60% [............................................                              ]  892928 / 1475504\r",
      " 61% [.............................................                             ]  901120 / 1475504\r",
      " 61% [.............................................                             ]  909312 / 1475504\r",
      " 62% [..............................................                            ]  917504 / 1475504\r",
      " 62% [..............................................                            ]  925696 / 1475504\r",
      " 63% [..............................................                            ]  933888 / 1475504\r",
      " 63% [...............................................                           ]  942080 / 1475504\r",
      " 64% [...............................................                           ]  950272 / 1475504\r",
      " 64% [................................................                          ]  958464 / 1475504\r",
      " 65% [................................................                          ]  966656 / 1475504\r",
      " 66% [................................................                          ]  974848 / 1475504\r",
      " 66% [.................................................                         ]  983040 / 1475504\r",
      " 67% [.................................................                         ]  991232 / 1475504\r",
      " 67% [..................................................                        ]  999424 / 1475504\r",
      " 68% [..................................................                        ] 1007616 / 1475504\r",
      " 68% [..................................................                        ] 1015808 / 1475504\r",
      " 69% [...................................................                       ] 1024000 / 1475504"
     ]
    },
    {
     "name": "stdout",
     "output_type": "stream",
     "text": [
      "\r",
      " 69% [...................................................                       ] 1032192 / 1475504\r",
      " 70% [....................................................                      ] 1040384 / 1475504\r",
      " 71% [....................................................                      ] 1048576 / 1475504\r",
      " 71% [....................................................                      ] 1056768 / 1475504\r",
      " 72% [.....................................................                     ] 1064960 / 1475504\r",
      " 72% [.....................................................                     ] 1073152 / 1475504\r",
      " 73% [......................................................                    ] 1081344 / 1475504\r",
      " 73% [......................................................                    ] 1089536 / 1475504\r",
      " 74% [.......................................................                   ] 1097728 / 1475504\r",
      " 74% [.......................................................                   ] 1105920 / 1475504\r",
      " 75% [.......................................................                   ] 1114112 / 1475504\r",
      " 76% [........................................................                  ] 1122304 / 1475504\r",
      " 76% [........................................................                  ] 1130496 / 1475504\r",
      " 77% [.........................................................                 ] 1138688 / 1475504\r",
      " 77% [.........................................................                 ] 1146880 / 1475504\r",
      " 78% [.........................................................                 ] 1155072 / 1475504\r",
      " 78% [..........................................................                ] 1163264 / 1475504\r",
      " 79% [..........................................................                ] 1171456 / 1475504\r",
      " 79% [...........................................................               ] 1179648 / 1475504\r",
      " 80% [...........................................................               ] 1187840 / 1475504\r",
      " 81% [...........................................................               ] 1196032 / 1475504\r",
      " 81% [............................................................              ] 1204224 / 1475504\r",
      " 82% [............................................................              ] 1212416 / 1475504\r",
      " 82% [.............................................................             ] 1220608 / 1475504\r",
      " 83% [.............................................................             ] 1228800 / 1475504\r",
      " 83% [..............................................................            ] 1236992 / 1475504\r",
      " 84% [..............................................................            ] 1245184 / 1475504\r",
      " 84% [..............................................................            ] 1253376 / 1475504\r",
      " 85% [...............................................................           ] 1261568 / 1475504\r",
      " 86% [...............................................................           ] 1269760 / 1475504\r",
      " 86% [................................................................          ] 1277952 / 1475504\r",
      " 87% [................................................................          ] 1286144 / 1475504\r",
      " 87% [................................................................          ] 1294336 / 1475504\r",
      " 88% [.................................................................         ] 1302528 / 1475504\r",
      " 88% [.................................................................         ] 1310720 / 1475504\r",
      " 89% [..................................................................        ] 1318912 / 1475504\r",
      " 89% [..................................................................        ] 1327104 / 1475504\r",
      " 90% [..................................................................        ] 1335296 / 1475504\r",
      " 91% [...................................................................       ] 1343488 / 1475504\r",
      " 91% [...................................................................       ] 1351680 / 1475504\r",
      " 92% [....................................................................      ] 1359872 / 1475504\r",
      " 92% [....................................................................      ] 1368064 / 1475504\r",
      " 93% [.....................................................................     ] 1376256 / 1475504\r",
      " 93% [.....................................................................     ] 1384448 / 1475504\r",
      " 94% [.....................................................................     ] 1392640 / 1475504\r",
      " 94% [......................................................................    ] 1400832 / 1475504\r",
      " 95% [......................................................................    ] 1409024 / 1475504\r",
      " 96% [.......................................................................   ] 1417216 / 1475504\r",
      " 96% [.......................................................................   ] 1425408 / 1475504\r",
      " 97% [.......................................................................   ] 1433600 / 1475504\r",
      " 97% [........................................................................  ] 1441792 / 1475504\r",
      " 98% [........................................................................  ] 1449984 / 1475504\r",
      " 98% [......................................................................... ] 1458176 / 1475504\r",
      " 99% [......................................................................... ] 1466368 / 1475504\r",
      " 99% [......................................................................... ] 1474560 / 1475504\r",
      "100% [..........................................................................] 1475504 / 1475504"
     ]
    }
   ],
   "source": [
    "data = wget.download('https://raw.githubusercontent.com/alexeygrigorev/mlbookcamp-code/master/chapter-02-car-price/data.csv')"
   ]
  },
  {
   "cell_type": "code",
   "execution_count": 31,
   "metadata": {},
   "outputs": [],
   "source": [
    "df = pd.read_csv(data)"
   ]
  },
  {
   "cell_type": "code",
   "execution_count": 32,
   "metadata": {},
   "outputs": [
    {
     "data": {
      "text/plain": [
       "Index(['Make', 'Model', 'Year', 'Engine Fuel Type', 'Engine HP',\n",
       "       'Engine Cylinders', 'Transmission Type', 'Driven_Wheels',\n",
       "       'Number of Doors', 'Market Category', 'Vehicle Size', 'Vehicle Style',\n",
       "       'highway MPG', 'city mpg', 'Popularity', 'MSRP'],\n",
       "      dtype='object')"
      ]
     },
     "execution_count": 32,
     "metadata": {},
     "output_type": "execute_result"
    }
   ],
   "source": [
    "df.columns"
   ]
  },
  {
   "cell_type": "markdown",
   "metadata": {},
   "source": [
    "We'll work with the MSRP variable, and we'll transform it to a classification task.\n",
    "\n",
    "For the rest of the homework, you'll need to use only these columns:\n",
    "* Make,\n",
    "* Model,\n",
    "* Year,\n",
    "* Engine HP,\n",
    "* Engine Cylinders,\n",
    "* Transmission Type,\n",
    "* Vehicle Style,\n",
    "* highway MPG,\n",
    "* city mpg\n",
    "* MSRP"
   ]
  },
  {
   "cell_type": "markdown",
   "metadata": {},
   "source": [
    "## Data preparation"
   ]
  },
  {
   "cell_type": "markdown",
   "metadata": {},
   "source": [
    "* Keep only the columns above\n",
    "* Lowercase the column names and replace spaces with underscores\n",
    "* Fill the missing values with 0\n",
    "* Make the price binary (1 if above the average, 0 otherwise) - this will be our target variable above_average  \n",
    "Split the data into 3 parts: train/validation/test with 60%/20%/20% distribution. Use train_test_split function for that with random_state=1"
   ]
  },
  {
   "cell_type": "code",
   "execution_count": 33,
   "metadata": {},
   "outputs": [
    {
     "data": {
      "text/html": [
       "<div>\n",
       "<style scoped>\n",
       "    .dataframe tbody tr th:only-of-type {\n",
       "        vertical-align: middle;\n",
       "    }\n",
       "\n",
       "    .dataframe tbody tr th {\n",
       "        vertical-align: top;\n",
       "    }\n",
       "\n",
       "    .dataframe thead th {\n",
       "        text-align: right;\n",
       "    }\n",
       "</style>\n",
       "<table border=\"1\" class=\"dataframe\">\n",
       "  <thead>\n",
       "    <tr style=\"text-align: right;\">\n",
       "      <th></th>\n",
       "      <th>Make</th>\n",
       "      <th>Model</th>\n",
       "      <th>Year</th>\n",
       "      <th>Engine HP</th>\n",
       "      <th>Engine Cylinders</th>\n",
       "      <th>Transmission Type</th>\n",
       "      <th>Vehicle Style</th>\n",
       "      <th>highway MPG</th>\n",
       "      <th>city mpg</th>\n",
       "      <th>MSRP</th>\n",
       "    </tr>\n",
       "  </thead>\n",
       "  <tbody>\n",
       "    <tr>\n",
       "      <th>0</th>\n",
       "      <td>BMW</td>\n",
       "      <td>1 Series M</td>\n",
       "      <td>2011</td>\n",
       "      <td>335.0</td>\n",
       "      <td>6.0</td>\n",
       "      <td>MANUAL</td>\n",
       "      <td>Coupe</td>\n",
       "      <td>26</td>\n",
       "      <td>19</td>\n",
       "      <td>46135</td>\n",
       "    </tr>\n",
       "    <tr>\n",
       "      <th>1</th>\n",
       "      <td>BMW</td>\n",
       "      <td>1 Series</td>\n",
       "      <td>2011</td>\n",
       "      <td>300.0</td>\n",
       "      <td>6.0</td>\n",
       "      <td>MANUAL</td>\n",
       "      <td>Convertible</td>\n",
       "      <td>28</td>\n",
       "      <td>19</td>\n",
       "      <td>40650</td>\n",
       "    </tr>\n",
       "    <tr>\n",
       "      <th>2</th>\n",
       "      <td>BMW</td>\n",
       "      <td>1 Series</td>\n",
       "      <td>2011</td>\n",
       "      <td>300.0</td>\n",
       "      <td>6.0</td>\n",
       "      <td>MANUAL</td>\n",
       "      <td>Coupe</td>\n",
       "      <td>28</td>\n",
       "      <td>20</td>\n",
       "      <td>36350</td>\n",
       "    </tr>\n",
       "    <tr>\n",
       "      <th>3</th>\n",
       "      <td>BMW</td>\n",
       "      <td>1 Series</td>\n",
       "      <td>2011</td>\n",
       "      <td>230.0</td>\n",
       "      <td>6.0</td>\n",
       "      <td>MANUAL</td>\n",
       "      <td>Coupe</td>\n",
       "      <td>28</td>\n",
       "      <td>18</td>\n",
       "      <td>29450</td>\n",
       "    </tr>\n",
       "    <tr>\n",
       "      <th>4</th>\n",
       "      <td>BMW</td>\n",
       "      <td>1 Series</td>\n",
       "      <td>2011</td>\n",
       "      <td>230.0</td>\n",
       "      <td>6.0</td>\n",
       "      <td>MANUAL</td>\n",
       "      <td>Convertible</td>\n",
       "      <td>28</td>\n",
       "      <td>18</td>\n",
       "      <td>34500</td>\n",
       "    </tr>\n",
       "  </tbody>\n",
       "</table>\n",
       "</div>"
      ],
      "text/plain": [
       "  Make       Model  Year  Engine HP  Engine Cylinders Transmission Type  \\\n",
       "0  BMW  1 Series M  2011      335.0               6.0            MANUAL   \n",
       "1  BMW    1 Series  2011      300.0               6.0            MANUAL   \n",
       "2  BMW    1 Series  2011      300.0               6.0            MANUAL   \n",
       "3  BMW    1 Series  2011      230.0               6.0            MANUAL   \n",
       "4  BMW    1 Series  2011      230.0               6.0            MANUAL   \n",
       "\n",
       "  Vehicle Style  highway MPG  city mpg   MSRP  \n",
       "0         Coupe           26        19  46135  \n",
       "1   Convertible           28        19  40650  \n",
       "2         Coupe           28        20  36350  \n",
       "3         Coupe           28        18  29450  \n",
       "4   Convertible           28        18  34500  "
      ]
     },
     "execution_count": 33,
     "metadata": {},
     "output_type": "execute_result"
    }
   ],
   "source": [
    "# Keeping only the neccessary columns\n",
    "df = df[['Make',\n",
    "'Model',\n",
    "'Year',\n",
    "'Engine HP',\n",
    "'Engine Cylinders',\n",
    "'Transmission Type',\n",
    "'Vehicle Style',\n",
    "'highway MPG',\n",
    "'city mpg',\n",
    "'MSRP']]\n",
    "\n",
    "df.head()"
   ]
  },
  {
   "cell_type": "code",
   "execution_count": 34,
   "metadata": {},
   "outputs": [],
   "source": [
    "# Lowercasing the column names and replacing spaces with underscores\n",
    "df.columns = df.columns.str.replace(' ', '_').str.lower()"
   ]
  },
  {
   "cell_type": "code",
   "execution_count": 35,
   "metadata": {},
   "outputs": [
    {
     "data": {
      "text/plain": [
       "make                  0\n",
       "model                 0\n",
       "year                  0\n",
       "engine_hp            69\n",
       "engine_cylinders     30\n",
       "transmission_type     0\n",
       "vehicle_style         0\n",
       "highway_mpg           0\n",
       "city_mpg              0\n",
       "msrp                  0\n",
       "dtype: int64"
      ]
     },
     "execution_count": 35,
     "metadata": {},
     "output_type": "execute_result"
    }
   ],
   "source": [
    "# Checking missing values\n",
    "df.isna().sum()"
   ]
  },
  {
   "cell_type": "code",
   "execution_count": 36,
   "metadata": {},
   "outputs": [
    {
     "data": {
      "text/plain": [
       "make                 0\n",
       "model                0\n",
       "year                 0\n",
       "engine_hp            0\n",
       "engine_cylinders     0\n",
       "transmission_type    0\n",
       "vehicle_style        0\n",
       "highway_mpg          0\n",
       "city_mpg             0\n",
       "msrp                 0\n",
       "dtype: int64"
      ]
     },
     "execution_count": 36,
     "metadata": {},
     "output_type": "execute_result"
    }
   ],
   "source": [
    "# Filling the missing values with 0\n",
    "df = df.fillna(0)\n",
    "df.isna().sum()"
   ]
  },
  {
   "cell_type": "code",
   "execution_count": 37,
   "metadata": {},
   "outputs": [],
   "source": [
    "# Making the price binary (1 if above the average, 0 otherwise)\n",
    "dfp = df.copy()\n",
    "df['above_average'] = (df['msrp'] > df['msrp'].mean()).astype(int)"
   ]
  },
  {
   "cell_type": "code",
   "execution_count": 38,
   "metadata": {},
   "outputs": [],
   "source": [
    "# Deleting the 'msrp' (price) column\n",
    "del df['msrp']"
   ]
  },
  {
   "cell_type": "code",
   "execution_count": 40,
   "metadata": {},
   "outputs": [
    {
     "data": {
      "text/plain": [
       "(7148, 2383, 2383)"
      ]
     },
     "execution_count": 40,
     "metadata": {},
     "output_type": "execute_result"
    }
   ],
   "source": [
    "# Splitting the data into 3 parts: train/validation/test with 60%/20%/20% distribution.\n",
    "from sklearn.model_selection import train_test_split\n",
    "df_train_full, df_test = train_test_split(df, test_size=0.2, random_state=1)\n",
    "df_train, df_val = train_test_split(df_train_full, test_size=0.25, random_state=1)\n",
    "len(df_train), len(df_val), len(df_test)"
   ]
  },
  {
   "cell_type": "code",
   "execution_count": 41,
   "metadata": {},
   "outputs": [],
   "source": [
    "df_train = df_train.reset_index(drop=True)\n",
    "df_val = df_val.reset_index(drop=True)\n",
    "df_test = df_test.reset_index(drop=True)"
   ]
  },
  {
   "cell_type": "code",
   "execution_count": 45,
   "metadata": {},
   "outputs": [],
   "source": [
    "y_train = df_train.above_average.values\n",
    "y_val = df_val.above_average.values\n",
    "y_test = df_test.above_average.values\n",
    "\n",
    "del df_train['above_average']\n",
    "del df_val['above_average']\n",
    "del df_test['above_average']"
   ]
  },
  {
   "cell_type": "markdown",
   "metadata": {},
   "source": [
    "## Question 1: ROC AUC feature importance"
   ]
  },
  {
   "cell_type": "markdown",
   "metadata": {},
   "source": [
    "ROC AUC could also be used to evaluate feature importance of numerical variables.\n",
    "\n",
    "Let's do that  \n",
    "* For each numerical variable, use it as score and compute AUC with the above_average variable\n",
    "* Use the training dataset for that  \n",
    "If your AUC is < 0.5, invert this variable by putting \"-\" in front\n",
    "(e.g. -df_train['engine_hp'])\n",
    "\n",
    "AUC can go below 0.5 if the variable is negatively correlated with the target varialble. You can change the direction of the correlation by negating this variable - then negative correlation becomes positive.  \n",
    "\n",
    "Which numerical variable (among the following 4) has the highest AUC?\n",
    "* engine_hp\n",
    "* engine_cylinders\n",
    "* highway_mpg\n",
    "* city_mpg"
   ]
  },
  {
   "cell_type": "code",
   "execution_count": 47,
   "metadata": {},
   "outputs": [
    {
     "data": {
      "text/html": [
       "<div>\n",
       "<style scoped>\n",
       "    .dataframe tbody tr th:only-of-type {\n",
       "        vertical-align: middle;\n",
       "    }\n",
       "\n",
       "    .dataframe tbody tr th {\n",
       "        vertical-align: top;\n",
       "    }\n",
       "\n",
       "    .dataframe thead th {\n",
       "        text-align: right;\n",
       "    }\n",
       "</style>\n",
       "<table border=\"1\" class=\"dataframe\">\n",
       "  <thead>\n",
       "    <tr style=\"text-align: right;\">\n",
       "      <th></th>\n",
       "      <th>make</th>\n",
       "      <th>model</th>\n",
       "      <th>year</th>\n",
       "      <th>engine_hp</th>\n",
       "      <th>engine_cylinders</th>\n",
       "      <th>transmission_type</th>\n",
       "      <th>vehicle_style</th>\n",
       "      <th>highway_mpg</th>\n",
       "      <th>city_mpg</th>\n",
       "      <th>above_average</th>\n",
       "    </tr>\n",
       "  </thead>\n",
       "  <tbody>\n",
       "    <tr>\n",
       "      <th>0</th>\n",
       "      <td>BMW</td>\n",
       "      <td>1 Series M</td>\n",
       "      <td>2011</td>\n",
       "      <td>335.0</td>\n",
       "      <td>6.0</td>\n",
       "      <td>MANUAL</td>\n",
       "      <td>Coupe</td>\n",
       "      <td>26</td>\n",
       "      <td>19</td>\n",
       "      <td>1</td>\n",
       "    </tr>\n",
       "    <tr>\n",
       "      <th>1</th>\n",
       "      <td>BMW</td>\n",
       "      <td>1 Series</td>\n",
       "      <td>2011</td>\n",
       "      <td>300.0</td>\n",
       "      <td>6.0</td>\n",
       "      <td>MANUAL</td>\n",
       "      <td>Convertible</td>\n",
       "      <td>28</td>\n",
       "      <td>19</td>\n",
       "      <td>1</td>\n",
       "    </tr>\n",
       "    <tr>\n",
       "      <th>2</th>\n",
       "      <td>BMW</td>\n",
       "      <td>1 Series</td>\n",
       "      <td>2011</td>\n",
       "      <td>300.0</td>\n",
       "      <td>6.0</td>\n",
       "      <td>MANUAL</td>\n",
       "      <td>Coupe</td>\n",
       "      <td>28</td>\n",
       "      <td>20</td>\n",
       "      <td>0</td>\n",
       "    </tr>\n",
       "    <tr>\n",
       "      <th>3</th>\n",
       "      <td>BMW</td>\n",
       "      <td>1 Series</td>\n",
       "      <td>2011</td>\n",
       "      <td>230.0</td>\n",
       "      <td>6.0</td>\n",
       "      <td>MANUAL</td>\n",
       "      <td>Coupe</td>\n",
       "      <td>28</td>\n",
       "      <td>18</td>\n",
       "      <td>0</td>\n",
       "    </tr>\n",
       "    <tr>\n",
       "      <th>4</th>\n",
       "      <td>BMW</td>\n",
       "      <td>1 Series</td>\n",
       "      <td>2011</td>\n",
       "      <td>230.0</td>\n",
       "      <td>6.0</td>\n",
       "      <td>MANUAL</td>\n",
       "      <td>Convertible</td>\n",
       "      <td>28</td>\n",
       "      <td>18</td>\n",
       "      <td>0</td>\n",
       "    </tr>\n",
       "  </tbody>\n",
       "</table>\n",
       "</div>"
      ],
      "text/plain": [
       "  make       model  year  engine_hp  engine_cylinders transmission_type  \\\n",
       "0  BMW  1 Series M  2011      335.0               6.0            MANUAL   \n",
       "1  BMW    1 Series  2011      300.0               6.0            MANUAL   \n",
       "2  BMW    1 Series  2011      300.0               6.0            MANUAL   \n",
       "3  BMW    1 Series  2011      230.0               6.0            MANUAL   \n",
       "4  BMW    1 Series  2011      230.0               6.0            MANUAL   \n",
       "\n",
       "  vehicle_style  highway_mpg  city_mpg  above_average  \n",
       "0         Coupe           26        19              1  \n",
       "1   Convertible           28        19              1  \n",
       "2         Coupe           28        20              0  \n",
       "3         Coupe           28        18              0  \n",
       "4   Convertible           28        18              0  "
      ]
     },
     "execution_count": 47,
     "metadata": {},
     "output_type": "execute_result"
    }
   ],
   "source": [
    "df.head()"
   ]
  },
  {
   "cell_type": "code",
   "execution_count": 49,
   "metadata": {},
   "outputs": [
    {
     "name": "stdout",
     "output_type": "stream",
     "text": [
      "<class 'pandas.core.frame.DataFrame'>\n",
      "RangeIndex: 7148 entries, 0 to 7147\n",
      "Data columns (total 9 columns):\n",
      "make                 7148 non-null object\n",
      "model                7148 non-null object\n",
      "year                 7148 non-null int64\n",
      "engine_hp            7148 non-null float64\n",
      "engine_cylinders     7148 non-null float64\n",
      "transmission_type    7148 non-null object\n",
      "vehicle_style        7148 non-null object\n",
      "highway_mpg          7148 non-null int64\n",
      "city_mpg             7148 non-null int64\n",
      "dtypes: float64(2), int64(3), object(4)\n",
      "memory usage: 502.7+ KB\n"
     ]
    }
   ],
   "source": [
    "df_train.info()"
   ]
  },
  {
   "cell_type": "code",
   "execution_count": 52,
   "metadata": {},
   "outputs": [
    {
     "data": {
      "text/plain": [
       "['year', 'engine_hp', 'engine_cylinders', 'highway_mpg', 'city_mpg']"
      ]
     },
     "execution_count": 52,
     "metadata": {},
     "output_type": "execute_result"
    }
   ],
   "source": [
    "numerical = list(df_train.dtypes[(df.dtypes == 'int64') | (df.dtypes == 'float64')].index)\n",
    "numerical"
   ]
  },
  {
   "cell_type": "code",
   "execution_count": 53,
   "metadata": {},
   "outputs": [],
   "source": [
    "from sklearn.metrics import roc_auc_score"
   ]
  },
  {
   "cell_type": "code",
   "execution_count": 55,
   "metadata": {},
   "outputs": [
    {
     "name": "stdout",
     "output_type": "stream",
     "text": [
      "Feature: engine_hp, ROC AUC: 0.9171031265539011\n",
      "Feature: engine_cylinders, ROC AUC: 0.766116490165669\n",
      "Feature: year, ROC AUC: 0.687551492804683\n",
      "Feature: city_mpg, ROC AUC: 0.6734244643245233\n",
      "Feature: highway_mpg, ROC AUC: 0.6330587871772013\n"
     ]
    }
   ],
   "source": [
    "feature_importance = {}  # Creating a dictionary to store feature importance scores\n",
    "\n",
    "for feature in df_train[numerical]:\n",
    "    # Calculating ROC AUC for each feature\n",
    "    auc_score = roc_auc_score(y_train, df_train[feature])\n",
    "        \n",
    "    if auc_score < 0.5:\n",
    "        # If AUC is less than 0.5, inverting the variable\n",
    "        inverted_feature = -df_train[feature]\n",
    "        auc_score = roc_auc_score(y_train, inverted_feature)\n",
    "        feature_importance[feature] = auc_score\n",
    "    else:\n",
    "        feature_importance[feature] = auc_score\n",
    "\n",
    "# Sorting features by ROC AUC score in descending order to get the most important features\n",
    "sorted_feature_importance = sorted(feature_importance.items(), key=lambda x: x[1], reverse=True)\n",
    "\n",
    "# Printing the sorted feature importance\n",
    "for feature, auc_score in sorted_feature_importance:\n",
    "    print(f\"Feature: {feature}, ROC AUC: {auc_score}\")"
   ]
  },
  {
   "cell_type": "markdown",
   "metadata": {},
   "source": [
    "Answer: engine_hp"
   ]
  },
  {
   "cell_type": "markdown",
   "metadata": {},
   "source": [
    "## Question 2: Training the model"
   ]
  },
  {
   "cell_type": "markdown",
   "metadata": {},
   "source": [
    "Apply one-hot-encoding using DictVectorizer and train the logistic regression with these parameters:\n",
    "\n",
    "LogisticRegression(solver='liblinear', C=1.0, max_iter=1000)\n",
    "\n",
    "What's the AUC of this model on the validation dataset? (round to 3 digits)\n",
    "* 0.678\n",
    "* 0.779\n",
    "* 0.878\n",
    "* 0.979"
   ]
  },
  {
   "cell_type": "code",
   "execution_count": 58,
   "metadata": {},
   "outputs": [
    {
     "data": {
      "text/plain": [
       "LogisticRegression(C=1.0, class_weight=None, dual=False, fit_intercept=True,\n",
       "          intercept_scaling=1, max_iter=1000, multi_class='warn',\n",
       "          n_jobs=None, penalty='l2', random_state=None, solver='liblinear',\n",
       "          tol=0.0001, verbose=0, warm_start=False)"
      ]
     },
     "execution_count": 58,
     "metadata": {},
     "output_type": "execute_result"
    }
   ],
   "source": [
    "dv = DictVectorizer(sparse=False)\n",
    "\n",
    "# Applying one-hot encoding to the training data\n",
    "train_dict = df_train.to_dict(orient='records')\n",
    "X_train = dv.fit_transform(train_dict)\n",
    "\n",
    "# Training the logistic regression model\n",
    "model = LogisticRegression(solver='liblinear', C=1.0, max_iter=1000)\n",
    "model.fit(X_train, y_train)"
   ]
  },
  {
   "cell_type": "code",
   "execution_count": 59,
   "metadata": {},
   "outputs": [
    {
     "name": "stdout",
     "output_type": "stream",
     "text": [
      "AUC on the validation dataset: 0.980\n"
     ]
    }
   ],
   "source": [
    "# Applying one-hot encoding to the validation data\n",
    "val_dict = df_val.to_dict(orient='records')\n",
    "X_val = dv.transform(val_dict)\n",
    "\n",
    "# Making predictions on the validation data\n",
    "y_pred = model.predict_proba(X_val)[:, 1]\n",
    "\n",
    "# Calculating the AUC score\n",
    "auc = roc_auc_score(y_val, y_pred)\n",
    "\n",
    "# Printing the AUC rounded to 3 digits\n",
    "print(f\"AUC on the validation dataset: {auc:.3f}\")"
   ]
  },
  {
   "cell_type": "markdown",
   "metadata": {},
   "source": [
    "Answer: 0.979"
   ]
  },
  {
   "cell_type": "markdown",
   "metadata": {},
   "source": [
    "## Question 3: Precision and Recall"
   ]
  },
  {
   "cell_type": "markdown",
   "metadata": {},
   "source": [
    "Now let's compute precision and recall for our model.\n",
    "* Evaluate the model on all thresholds from 0.0 to 1.0 with step 0.01\n",
    "* For each threshold, compute precision and recall\n",
    "* Plot them\n",
    "\n",
    "At which threshold precision and recall curves intersect?\n",
    "* 0.28\n",
    "* 0.48\n",
    "* 0.68\n",
    "* 0.88"
   ]
  },
  {
   "cell_type": "code",
   "execution_count": 65,
   "metadata": {},
   "outputs": [],
   "source": [
    "from sklearn.metrics import accuracy_score"
   ]
  },
  {
   "cell_type": "code",
   "execution_count": 66,
   "metadata": {},
   "outputs": [
    {
     "data": {
      "text/plain": [
       "0.9383130507763323"
      ]
     },
     "execution_count": 66,
     "metadata": {},
     "output_type": "execute_result"
    }
   ],
   "source": [
    "accuracy_score(y_val, y_pred >= 0.5)"
   ]
  },
  {
   "cell_type": "code",
   "execution_count": 67,
   "metadata": {},
   "outputs": [
    {
     "name": "stderr",
     "output_type": "stream",
     "text": [
      "C:\\Users\\valkm\\AppData\\Local\\Continuum\\anaconda3\\envs\\retinanet\\lib\\site-packages\\sklearn\\metrics\\classification.py:1143: UndefinedMetricWarning: Precision is ill-defined and being set to 0.0 due to no predicted samples.\n",
      "  'precision', 'predicted', average, warn_for)\n"
     ]
    },
    {
     "data": {
      "image/png": "[encoded data removed]",
      "text/plain": [
       "<Figure size 576x432 with 1 Axes>"
      ]
     },
     "metadata": {
      "needs_background": "light"
     },
     "output_type": "display_data"
    }
   ],
   "source": [
    "from sklearn.metrics import precision_score, recall_score\n",
    "\n",
    "# Creating an array of thresholds from 0.0 to 1.0 with a step of 0.01\n",
    "thresholds = np.arange(0, 1.01, 0.01)\n",
    "\n",
    "# Initializing lists to store precision and recall values\n",
    "precision_values = []\n",
    "recall_values = []\n",
    "\n",
    "# Calculating precision and recall for each threshold\n",
    "for threshold in thresholds:\n",
    "    # Applying the threshold to the predicted probabilities to make binary predictions\n",
    "    binary_predictions = (y_pred >= threshold).astype(int)\n",
    "\n",
    "    # Calculating precision and recall\n",
    "    precision = precision_score(y_val, binary_predictions)\n",
    "    recall = recall_score(y_val, binary_predictions)\n",
    "\n",
    "    precision_values.append(precision)\n",
    "    recall_values.append(recall)\n",
    "\n",
    "# Creating a plot showing precision and recall across thresholds\n",
    "plt.figure(figsize=(8, 6))\n",
    "plt.plot(thresholds, precision_values, label='Precision')\n",
    "plt.plot(thresholds, recall_values, label='Recall')\n",
    "plt.xlabel('Threshold')\n",
    "plt.ylabel('Score')\n",
    "plt.title('Precision and Recall vs. Threshold')\n",
    "plt.legend()\n",
    "plt.grid()\n",
    "plt.show()"
   ]
  },
  {
   "cell_type": "code",
   "execution_count": 68,
   "metadata": {},
   "outputs": [
    {
     "name": "stdout",
     "output_type": "stream",
     "text": [
      "Precision and Recall curves intersect at threshold: 0.51\n"
     ]
    },
    {
     "name": "stderr",
     "output_type": "stream",
     "text": [
      "C:\\Users\\valkm\\AppData\\Local\\Continuum\\anaconda3\\envs\\retinanet\\lib\\site-packages\\ipykernel_launcher.py:4: RuntimeWarning: invalid value encountered in double_scalars\n",
      "  after removing the cwd from sys.path.\n"
     ]
    }
   ],
   "source": [
    "from sklearn.metrics import f1_score\n",
    "\n",
    "# Calculating F1-score for each threshold\n",
    "f1_scores = [2 * (precision * recall) / (precision + recall) for precision, recall in zip(precision_values, recall_values)]\n",
    "\n",
    "# Finding the threshold with the maximum F1-score\n",
    "max_f1_score = max(f1_scores)\n",
    "optimal_threshold = thresholds[f1_scores.index(max_f1_score)]\n",
    "\n",
    "print(f\"Precision and Recall curves intersect at threshold: {optimal_threshold:.2f}\")"
   ]
  },
  {
   "cell_type": "markdown",
   "metadata": {},
   "source": [
    "Answer: 0.48"
   ]
  },
  {
   "cell_type": "markdown",
   "metadata": {},
   "source": [
    "## Question 4: F1 score"
   ]
  },
  {
   "cell_type": "markdown",
   "metadata": {},
   "source": [
    "Precision and recall are conflicting - when one grows, the other goes down. That's why they are often combined into the F1 score - a metrics that takes into account both.\n",
    "\n",
    "Let's compute F1 for all thresholds from 0.0 to 1.0 with increment 0.01\n",
    "\n",
    "At which threshold F1 is maximal?\n",
    "* 0.12\n",
    "* 0.32\n",
    "* 0.52\n",
    "* 0.72"
   ]
  },
  {
   "cell_type": "code",
   "execution_count": 69,
   "metadata": {},
   "outputs": [
    {
     "name": "stdout",
     "output_type": "stream",
     "text": [
      "Threshold at which F1 is maximal: 0.51\n"
     ]
    },
    {
     "name": "stderr",
     "output_type": "stream",
     "text": [
      "C:\\Users\\valkm\\AppData\\Local\\Continuum\\anaconda3\\envs\\retinanet\\lib\\site-packages\\sklearn\\metrics\\classification.py:1143: UndefinedMetricWarning: F-score is ill-defined and being set to 0.0 due to no predicted samples.\n",
      "  'precision', 'predicted', average, warn_for)\n"
     ]
    }
   ],
   "source": [
    "# Creating an array of thresholds from 0.0 to 1.0 with an increment of 0.01\n",
    "thresholds = np.arange(0, 1.01, 0.01)\n",
    "\n",
    "# Initializing a list to store F1 scores\n",
    "f1_scores = []\n",
    "\n",
    "# Calculating F1-score for each threshold\n",
    "for threshold in thresholds:\n",
    "    # Applying the threshold to the predicted probabilities to make binary predictions\n",
    "    binary_predictions = (y_pred >= threshold).astype(int)\n",
    "\n",
    "    # Calculating the F1-score\n",
    "    f1 = f1_score(y_val, binary_predictions)\n",
    "    f1_scores.append(f1)\n",
    "\n",
    "# Finding the threshold at which F1 is maximal\n",
    "max_f1 = max(f1_scores)\n",
    "optimal_threshold = thresholds[f1_scores.index(max_f1)]\n",
    "\n",
    "print(f\"Threshold at which F1 is maximal: {optimal_threshold:.2f}\")"
   ]
  },
  {
   "cell_type": "markdown",
   "metadata": {},
   "source": [
    "Answer: 0.52"
   ]
  },
  {
   "cell_type": "markdown",
   "metadata": {},
   "source": [
    "## Question 5: 5-Fold CV"
   ]
  },
  {
   "cell_type": "markdown",
   "metadata": {},
   "source": [
    "Use the KFold class from Scikit-Learn to evaluate our model on 5 different folds:\n",
    "\n",
    "KFold(n_splits=5, shuffle=True, random_state=1)\n",
    "* Iterate over different folds of df_full_train\n",
    "* Split the data into train and validation\n",
    "* Train the model on train with these parameters: LogisticRegression(solver='liblinear', C=1.0, max_iter=1000)\n",
    "* Use AUC to evaluate the model on validation\n",
    "\n",
    "How large is standard deviation of the scores across different folds?\n",
    "* 0.003\n",
    "* 0.030\n",
    "* 0.090\n",
    "* 0.140"
   ]
  },
  {
   "cell_type": "code",
   "execution_count": 71,
   "metadata": {},
   "outputs": [],
   "source": [
    "from sklearn.model_selection import KFold"
   ]
  },
  {
   "cell_type": "code",
   "execution_count": 77,
   "metadata": {},
   "outputs": [],
   "source": [
    "# Define the KFold cross-validation strategy\n",
    "kf = KFold(n_splits=5, shuffle=True, random_state=1)\n",
    "\n",
    "# Initialize a list to store AUC scores\n",
    "auc_scores = []\n",
    "\n",
    "# Initialize the one-hot encoding transformation\n",
    "dv = DictVectorizer(sparse=False)\n",
    "\n",
    "# Iterate over different folds\n",
    "for train_index, val_index in kf.split(df_train_full):\n",
    "    # Split the data into train and validation sets\n",
    "    train_data, val_data = df_train_full.iloc[train_index], df_train_full.iloc[val_index]\n",
    "    \n",
    "    # Extract features and target variables\n",
    "    X_train = train_data.drop(columns=['above_average'])\n",
    "    y_train = train_data['above_average']\n",
    "    X_val = val_data.drop(columns=['above_average'])\n",
    "    y_val = val_data['above_average']\n",
    "    \n",
    "    # Apply the one-hot encoding transformation to both training and validation data\n",
    "    X_train_encoded = dv.fit_transform(X_train.to_dict(orient='records'))\n",
    "    X_val_encoded = dv.transform(X_val.to_dict(orient='records'))\n",
    "    \n",
    "    # Create and train the logistic regression model with the specified parameters\n",
    "    model = LogisticRegression(solver='liblinear', C=1.0, max_iter=1000)\n",
    "    model.fit(X_train_encoded, y_train)\n",
    "    \n",
    "    # Make predictions on the validation set\n",
    "    y_pred = model.predict_proba(X_val_encoded)[:, 1]\n",
    "    \n",
    "    # Calculate the AUC score for this fold and store it\n",
    "    auc = roc_auc_score(y_val, y_pred)\n",
    "    auc_scores.append(auc)\n",
    "\n",
    "# Calculate the standard deviation of the AUC scores across the different folds\n",
    "std_dev = np.std(auc_scores)"
   ]
  },
  {
   "cell_type": "code",
   "execution_count": 79,
   "metadata": {},
   "outputs": [
    {
     "data": {
      "text/plain": [
       "0.002"
      ]
     },
     "execution_count": 79,
     "metadata": {},
     "output_type": "execute_result"
    }
   ],
   "source": [
    "std_dev.round(3)"
   ]
  },
  {
   "cell_type": "markdown",
   "metadata": {},
   "source": [
    "Answer: 0.003"
   ]
  },
  {
   "cell_type": "markdown",
   "metadata": {},
   "source": [
    "## Question 6: Hyperparameter Tuning"
   ]
  },
  {
   "cell_type": "markdown",
   "metadata": {},
   "source": [
    "Now let's use 5-Fold cross-validation to find the best parameter C\n",
    "\n",
    "* Iterate over the following C values: [0.01, 0.1, 0.5, 10]\n",
    "* Initialize KFold with the same parameters as previously\n",
    "* Use these parameters for the model: LogisticRegression(solver='liblinear', C=C, max_iter=1000)\n",
    "* Compute the mean score as well as the std (round the mean and std to 3 decimal digits)\n",
    "\n",
    "Which C leads to the best mean score?\n",
    "* 0.01\n",
    "* 0.1\n",
    "* 0.5\n",
    "* 10\n",
    "\n",
    "If you have ties, select the score with the lowest std. If you still have ties, select the smallest C."
   ]
  },
  {
   "cell_type": "code",
   "execution_count": 81,
   "metadata": {},
   "outputs": [
    {
     "ename": "ValueError",
     "evalue": "Found input variables with inconsistent numbers of samples: [7625, 7624]",
     "output_type": "error",
     "traceback": [
      "\u001b[1;31m---------------------------------------------------------------------------\u001b[0m",
      "\u001b[1;31mValueError\u001b[0m                                Traceback (most recent call last)",
      "\u001b[1;32m<ipython-input-81-d5a87d77089b>\u001b[0m in \u001b[0;36m<module>\u001b[1;34m\u001b[0m\n\u001b[0;32m     32\u001b[0m \u001b[1;33m\u001b[0m\u001b[0m\n\u001b[0;32m     33\u001b[0m         \u001b[1;31m# Train the logistic regression model on the training set\u001b[0m\u001b[1;33m\u001b[0m\u001b[1;33m\u001b[0m\u001b[1;33m\u001b[0m\u001b[0m\n\u001b[1;32m---> 34\u001b[1;33m         \u001b[0mmodel\u001b[0m\u001b[1;33m.\u001b[0m\u001b[0mfit\u001b[0m\u001b[1;33m(\u001b[0m\u001b[0mX_train_encoded\u001b[0m\u001b[1;33m,\u001b[0m \u001b[0my_train\u001b[0m\u001b[1;33m)\u001b[0m\u001b[1;33m\u001b[0m\u001b[1;33m\u001b[0m\u001b[0m\n\u001b[0m\u001b[0;32m     35\u001b[0m \u001b[1;33m\u001b[0m\u001b[0m\n\u001b[0;32m     36\u001b[0m         \u001b[1;31m# Make predictions on the validation set\u001b[0m\u001b[1;33m\u001b[0m\u001b[1;33m\u001b[0m\u001b[1;33m\u001b[0m\u001b[0m\n",
      "\u001b[1;32m~\\AppData\\Local\\Continuum\\anaconda3\\envs\\retinanet\\lib\\site-packages\\sklearn\\linear_model\\logistic.py\u001b[0m in \u001b[0;36mfit\u001b[1;34m(self, X, y, sample_weight)\u001b[0m\n\u001b[0;32m   1286\u001b[0m \u001b[1;33m\u001b[0m\u001b[0m\n\u001b[0;32m   1287\u001b[0m         X, y = check_X_y(X, y, accept_sparse='csr', dtype=_dtype, order=\"C\",\n\u001b[1;32m-> 1288\u001b[1;33m                          accept_large_sparse=solver != 'liblinear')\n\u001b[0m\u001b[0;32m   1289\u001b[0m         \u001b[0mcheck_classification_targets\u001b[0m\u001b[1;33m(\u001b[0m\u001b[0my\u001b[0m\u001b[1;33m)\u001b[0m\u001b[1;33m\u001b[0m\u001b[1;33m\u001b[0m\u001b[0m\n\u001b[0;32m   1290\u001b[0m         \u001b[0mself\u001b[0m\u001b[1;33m.\u001b[0m\u001b[0mclasses_\u001b[0m \u001b[1;33m=\u001b[0m \u001b[0mnp\u001b[0m\u001b[1;33m.\u001b[0m\u001b[0munique\u001b[0m\u001b[1;33m(\u001b[0m\u001b[0my\u001b[0m\u001b[1;33m)\u001b[0m\u001b[1;33m\u001b[0m\u001b[1;33m\u001b[0m\u001b[0m\n",
      "\u001b[1;32m~\\AppData\\Local\\Continuum\\anaconda3\\envs\\retinanet\\lib\\site-packages\\sklearn\\utils\\validation.py\u001b[0m in \u001b[0;36mcheck_X_y\u001b[1;34m(X, y, accept_sparse, accept_large_sparse, dtype, order, copy, force_all_finite, ensure_2d, allow_nd, multi_output, ensure_min_samples, ensure_min_features, y_numeric, warn_on_dtype, estimator)\u001b[0m\n\u001b[0;32m    764\u001b[0m         \u001b[0my\u001b[0m \u001b[1;33m=\u001b[0m \u001b[0my\u001b[0m\u001b[1;33m.\u001b[0m\u001b[0mastype\u001b[0m\u001b[1;33m(\u001b[0m\u001b[0mnp\u001b[0m\u001b[1;33m.\u001b[0m\u001b[0mfloat64\u001b[0m\u001b[1;33m)\u001b[0m\u001b[1;33m\u001b[0m\u001b[1;33m\u001b[0m\u001b[0m\n\u001b[0;32m    765\u001b[0m \u001b[1;33m\u001b[0m\u001b[0m\n\u001b[1;32m--> 766\u001b[1;33m     \u001b[0mcheck_consistent_length\u001b[0m\u001b[1;33m(\u001b[0m\u001b[0mX\u001b[0m\u001b[1;33m,\u001b[0m \u001b[0my\u001b[0m\u001b[1;33m)\u001b[0m\u001b[1;33m\u001b[0m\u001b[1;33m\u001b[0m\u001b[0m\n\u001b[0m\u001b[0;32m    767\u001b[0m \u001b[1;33m\u001b[0m\u001b[0m\n\u001b[0;32m    768\u001b[0m     \u001b[1;32mreturn\u001b[0m \u001b[0mX\u001b[0m\u001b[1;33m,\u001b[0m \u001b[0my\u001b[0m\u001b[1;33m\u001b[0m\u001b[1;33m\u001b[0m\u001b[0m\n",
      "\u001b[1;32m~\\AppData\\Local\\Continuum\\anaconda3\\envs\\retinanet\\lib\\site-packages\\sklearn\\utils\\validation.py\u001b[0m in \u001b[0;36mcheck_consistent_length\u001b[1;34m(*arrays)\u001b[0m\n\u001b[0;32m    233\u001b[0m     \u001b[1;32mif\u001b[0m \u001b[0mlen\u001b[0m\u001b[1;33m(\u001b[0m\u001b[0muniques\u001b[0m\u001b[1;33m)\u001b[0m \u001b[1;33m>\u001b[0m \u001b[1;36m1\u001b[0m\u001b[1;33m:\u001b[0m\u001b[1;33m\u001b[0m\u001b[1;33m\u001b[0m\u001b[0m\n\u001b[0;32m    234\u001b[0m         raise ValueError(\"Found input variables with inconsistent numbers of\"\n\u001b[1;32m--> 235\u001b[1;33m                          \" samples: %r\" % [int(l) for l in lengths])\n\u001b[0m\u001b[0;32m    236\u001b[0m \u001b[1;33m\u001b[0m\u001b[0m\n\u001b[0;32m    237\u001b[0m \u001b[1;33m\u001b[0m\u001b[0m\n",
      "\u001b[1;31mValueError\u001b[0m: Found input variables with inconsistent numbers of samples: [7625, 7624]"
     ]
    }
   ],
   "source": [
    "from sklearn.model_selection import StratifiedKFold\n",
    "\n",
    "# Specify the values of C to be tested\n",
    "C_values = [0.01, 0.1, 0.5, 10]\n",
    "\n",
    "# Initialize a dictionary to store the results for each C value\n",
    "results = {}\n",
    "\n",
    "# Initialize StratifiedKFold with the same parameters as previously\n",
    "kf = StratifiedKFold(n_splits=5, shuffle=True, random_state=1)\n",
    "\n",
    "# Iterate over different C values\n",
    "for C in C_values:\n",
    "    # Initialize a list to store AUC scores for each fold\n",
    "    auc_scores = []\n",
    "\n",
    "    # Create and train the logistic regression model with the specified C value\n",
    "    model = LogisticRegression(solver='liblinear', C=C, max_iter=1000)\n",
    "\n",
    "    # Iterate over different folds\n",
    "    for train_index, val_index in kf.split(df_train_full, df_train_full['above_average']):\n",
    "        # Split the data into train and validation sets\n",
    "        train_data, val_data = df_train_full.iloc[train_index], df_train_full.iloc[val_index]\n",
    "    \n",
    "        # Extract features and target variables\n",
    "        X_train = train_data.drop(columns=['above_average'])\n",
    "        y_train = train_data['above_average']\n",
    "        X_val = val_data.drop(columns=['above_average'])\n",
    "        y_val = val_data['above_average']\n",
    "    \n",
    "        # Apply one-hot encoding as needed\n",
    "    \n",
    "        # Train the logistic regression model on the training set\n",
    "        model.fit(X_train_encoded, y_train)\n",
    "    \n",
    "        # Make predictions on the validation set\n",
    "        y_pred = model.predict_proba(X_val_encoded)[:, 1]\n",
    "    \n",
    "        # Calculate the AUC score for this fold and store it\n",
    "        auc = roc_auc_score(y_val, y_pred)\n",
    "        auc_scores.append(auc)\n",
    "\n",
    "    # Calculate the mean and standard deviation of AUC scores for this C value\n",
    "    mean_auc = np.mean(auc_scores)\n",
    "    std_auc = np.std(auc_scores)\n",
    "\n",
    "    # Store the results in the dictionary\n",
    "    results[C] = (round(mean_auc, 3), round(std_auc, 3))\n",
    "\n",
    "# Print the results\n",
    "for C, (mean_auc, std_auc) in results.items():\n",
    "    print(f\"C = {C}: Mean AUC = {mean_auc}, Std = {std_auc}\")"
   ]
  },
  {
   "cell_type": "code",
   "execution_count": null,
   "metadata": {},
   "outputs": [],
   "source": []
  }
 ],
 "metadata": {
  "kernelspec": {
   "display_name": "Python 3",
   "language": "python",
   "name": "python3"
  },
  "language_info": {
   "codemirror_mode": {
    "name": "ipython",
    "version": 3
   },
   "file_extension": ".py",
   "mimetype": "text/x-python",
   "name": "python",
   "nbconvert_exporter": "python",
   "pygments_lexer": "ipython3",
   "version": "3.6.8"
  }
 },
 "nbformat": 4,
 "nbformat_minor": 2
}
